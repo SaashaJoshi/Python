{
 "cells": [
  {
   "cell_type": "markdown",
   "metadata": {},
   "source": [
    "Question 1"
   ]
  },
  {
   "cell_type": "code",
   "execution_count": 37,
   "metadata": {},
   "outputs": [
    {
     "name": "stdout",
     "output_type": "stream",
     "text": [
      "Enter the number of records: 5\n"
     ]
    }
   ],
   "source": [
    "number = int(input('Enter the number of records: '))"
   ]
  },
  {
   "cell_type": "code",
   "execution_count": 38,
   "metadata": {},
   "outputs": [
    {
     "name": "stdout",
     "output_type": "stream",
     "text": [
      "Enter name, age and height of the person: john, 31, 154\n",
      "Enter name, age and height of the person: sarah, 20, 157\n",
      "Enter name, age and height of the person: ryan, 40, 155\n",
      "Enter name, age and height of the person: sarah, 21, 158\n",
      "Enter name, age and height of the person: sarah, 21, 155\n"
     ]
    }
   ],
   "source": [
    "tuple_list = []\n",
    "while number > 0:\n",
    "    number = number - 1\n",
    "    (n, a, h) = input('Enter name, age and height of the person: ').split(',')\n",
    "    tuple_list.append((n, int(a), int(h)))"
   ]
  },
  {
   "cell_type": "code",
   "execution_count": 54,
   "metadata": {},
   "outputs": [
    {
     "name": "stdout",
     "output_type": "stream",
     "text": [
      "[('john', 31, 154), ('sarah', 20, 157), ('ryan', 40, 155), ('sarah', 21, 158), ('sarah', 21, 155)]\n"
     ]
    }
   ],
   "source": [
    "print(tuple_list)"
   ]
  },
  {
   "cell_type": "code",
   "execution_count": 56,
   "metadata": {},
   "outputs": [
    {
     "name": "stdout",
     "output_type": "stream",
     "text": [
      "[('john', 31, 154), ('ryan', 40, 155), ('sarah', 20, 157), ('sarah', 21, 155), ('sarah', 21, 158)]\n"
     ]
    }
   ],
   "source": [
    "sorted_tuple_list = sorted(tuple_list, key = lambda record : (record[0], record[1], record[2]))\n",
    "print(sorted_tuple_list)"
   ]
  },
  {
   "cell_type": "markdown",
   "metadata": {},
   "source": [
    "Question 2"
   ]
  },
  {
   "cell_type": "code",
   "execution_count": 108,
   "metadata": {},
   "outputs": [
    {
     "name": "stdout",
     "output_type": "stream",
     "text": [
      "Enter the number of strings: 3\n"
     ]
    }
   ],
   "source": [
    "number = int(input('Enter the number of strings: '))"
   ]
  },
  {
   "cell_type": "code",
   "execution_count": 109,
   "metadata": {},
   "outputs": [
    {
     "name": "stdout",
     "output_type": "stream",
     "text": [
      "Enter strings:My name is Sarah and I am a student\n",
      "Enter strings:My name is Ryan and I work\n",
      "Enter strings:Ryan doesn't work honestly\n"
     ]
    }
   ],
   "source": [
    "record = []\n",
    "while number > 0:\n",
    "    number = number -1\n",
    "    string_list = input('Enter strings:')\n",
    "    string_list = string_list.lower().split(' ')\n",
    "    \n",
    "    for token in string_list:\n",
    "        record.append(token)"
   ]
  },
  {
   "cell_type": "code",
   "execution_count": 110,
   "metadata": {},
   "outputs": [
    {
     "name": "stdout",
     "output_type": "stream",
     "text": [
      "['my', 'name', 'is', 'sarah', 'and', 'i', 'am', 'a', 'student', 'my', 'name', 'is', 'ryan', 'and', 'i', 'work', 'ryan', \"doesn't\", 'work', 'honestly']\n"
     ]
    }
   ],
   "source": [
    "print(record)"
   ]
  },
  {
   "cell_type": "code",
   "execution_count": 137,
   "metadata": {},
   "outputs": [
    {
     "name": "stdout",
     "output_type": "stream",
     "text": [
      "{'my': 2, 'name': 2, 'is': 2, 'sarah': 1, 'and': 2, 'i': 2, 'am': 1, 'a': 1, 'student': 1, 'ryan': 2, 'work': 2, \"doesn't\": 1, 'honestly': 1}\n"
     ]
    }
   ],
   "source": [
    "frequency_dict = dict()\n",
    "for token in record:\n",
    "    if token not in frequency_dict:\n",
    "        frequency_dict[token] = 1\n",
    "    else:\n",
    "        frequency_dict[token] = frequency_dict[token] + 1\n",
    "\n",
    "print(frequency_dict)"
   ]
  },
  {
   "cell_type": "markdown",
   "metadata": {},
   "source": [
    "Question 3"
   ]
  },
  {
   "cell_type": "code",
   "execution_count": 125,
   "metadata": {},
   "outputs": [
    {
     "name": "stdout",
     "output_type": "stream",
     "text": [
      "Avish 188\n",
      "Bhavya 138\n",
      "Tanya 128\n"
     ]
    }
   ],
   "source": [
    "Student = { 'UE183001': 'Avish', 'UE183002': 'Bhavya', 'UE183003': 'Tanya' } \n",
    "Marks = [('UE183001', 'CS', 94 ), ('UE183002', 'CS', 64 ), ('UE183001', 'RV', 94), ('UE183002', 'CS', 74), \n",
    "  ('UE183003', 'CS', 64), ('UE183003', 'RV', 64)] \n",
    "\n",
    "for key in Student.keys():\n",
    "    total_marks = 0\n",
    "    for item in Marks:\n",
    "        if key == item[0]:\n",
    "            total_marks = total_marks + item[2]\n",
    "    print(Student[key], total_marks)"
   ]
  },
  {
   "cell_type": "markdown",
   "metadata": {},
   "source": [
    "Question 4"
   ]
  },
  {
   "cell_type": "code",
   "execution_count": 173,
   "metadata": {},
   "outputs": [
    {
     "name": "stdout",
     "output_type": "stream",
     "text": [
      "Enter the date (dd-mmm-yy): 08-SEP-99\n",
      "08 SEP 99\n"
     ]
    }
   ],
   "source": [
    "month_dict = {'JAN': '01', 'FEB': '02', 'MAR': '03', 'APR': '04', 'MAY': '05', 'JUN': '06', 'JUL': '07', 'AUG': '08', 'SEP': '09', 'OCT': '10', 'NOV': '11', 'DEC': '12'}\n",
    "\n",
    "\n",
    "(dd, mm, yyyy) = input('Enter the date (dd-mmm-yy): ').split('-')\n",
    "print(dd, mm, yyyy)"
   ]
  },
  {
   "cell_type": "code",
   "execution_count": 174,
   "metadata": {},
   "outputs": [
    {
     "name": "stdout",
     "output_type": "stream",
     "text": [
      "SEP\n",
      "12\n"
     ]
    }
   ],
   "source": [
    "print(mm)\n",
    "for mm in month_dict.keys():\n",
    "    mm = month_dict[mm]\n",
    "    mm = int(mm)\n",
    "print(mm)"
   ]
  },
  {
   "cell_type": "code",
   "execution_count": 175,
   "metadata": {},
   "outputs": [
    {
     "name": "stdout",
     "output_type": "stream",
     "text": [
      "99\n",
      "1999\n"
     ]
    }
   ],
   "source": [
    "print(yyyy)\n",
    "yyyy = int(yyyy)\n",
    "if yyyy in range(21):\n",
    "    yyyy = yyyy + 2000\n",
    "else:\n",
    "    yyyy = yyyy + 1900\n",
    "print(yyyy)"
   ]
  },
  {
   "cell_type": "code",
   "execution_count": 176,
   "metadata": {},
   "outputs": [
    {
     "name": "stdout",
     "output_type": "stream",
     "text": [
      "Date:  (8, 12, 1999)\n"
     ]
    }
   ],
   "source": [
    "print('Date: ', (int(dd), mm, yyyy))"
   ]
  },
  {
   "cell_type": "markdown",
   "metadata": {},
   "source": [
    "Question 5"
   ]
  },
  {
   "cell_type": "code",
   "execution_count": 91,
   "metadata": {},
   "outputs": [
    {
     "name": "stdout",
     "output_type": "stream",
     "text": [
      "{2: [(1, 1)], 3: [(1, 2), (2, 1)], 4: [(1, 3), (2, 2), (3, 1)], 5: [(1, 4), (2, 3), (3, 2), (4, 1)], 6: [(1, 5), (2, 4), (3, 3), (4, 2), (5, 1)], 7: [(1, 6), (2, 5), (3, 4), (4, 3), (5, 2), (6, 1)], 8: [(2, 6), (3, 5), (4, 4), (5, 3), (6, 2)], 9: [(3, 6), (4, 5), (5, 4), (6, 3)], 10: [(4, 6), (5, 5), (6, 4)], 11: [(5, 6), (6, 5)], 12: [(6, 6)]}\n"
     ]
    }
   ],
   "source": [
    "dice_dict = dict()\n",
    "die_list = []\n",
    "sum_list = []\n",
    "\n",
    "for die1 in range(1, 7):\n",
    "    for die2 in range(1, 7):\n",
    "        die_sum = die1 + die2\n",
    "        sum_list.append(die_sum)\n",
    "        die_list.append((die1, die2))\n",
    "# print(sum_list)\n",
    "# print(die_list)\n",
    "\n",
    "for index, value in enumerate(sum_list):\n",
    "    if value not in dice_dict:\n",
    "        dice_dict[value] = [die_list[index]]\n",
    "    else:\n",
    "        dice_dict[value].append(die_list[index])\n",
    "print(dice_dict)\n",
    "\n",
    "# OR\n",
    "# zip_list = zip(sum_list, die_list)\n",
    "# for key, value in zip_list:\n",
    "#     if key not in dice_dict:\n",
    "#         dice_dict[key] = [value]\n",
    "#     else:\n",
    "#         dice_dict[key].append(value)       \n",
    "# print(dice_dict)"
   ]
  }
 ],
 "metadata": {
  "kernelspec": {
   "display_name": "Python 3",
   "language": "python",
   "name": "python3"
  },
  "language_info": {
   "codemirror_mode": {
    "name": "ipython",
    "version": 3
   },
   "file_extension": ".py",
   "mimetype": "text/x-python",
   "name": "python",
   "nbconvert_exporter": "python",
   "pygments_lexer": "ipython3",
   "version": "3.7.3"
  }
 },
 "nbformat": 4,
 "nbformat_minor": 2
}
