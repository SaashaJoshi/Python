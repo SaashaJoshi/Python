{
 "cells": [
  {
   "cell_type": "markdown",
   "metadata": {},
   "source": [
    "Question 1"
   ]
  },
  {
   "cell_type": "code",
   "execution_count": 170,
   "metadata": {},
   "outputs": [
    {
     "name": "stdout",
     "output_type": "stream",
     "text": [
      "[6, 33, 15, 35, 24]\n",
      "[[7, 8, 20], [10, 11, 12], [7, 8, 9], [4, 5, 6], [1, 2, 3]]\n",
      "List with highest sum:  [7, 8, 20]\n"
     ]
    }
   ],
   "source": [
    "sample_list = [[1,2,3], [10,11,12], [4,5,6], [7, 8, 20], [7,8,9]]\n",
    "\n",
    "sum_list = []\n",
    "\n",
    "for sub_list in sample_list:\n",
    "    element_sum = 0\n",
    "    for element in sub_list:\n",
    "        element_sum = element_sum + element\n",
    "    sum_list.append(element_sum)\n",
    "    \n",
    "print(sum_list)\n",
    "\n",
    "new_list = [element_sample_list for element_sum_list, element_sample_list in sorted(zip(sum_list,sample_list), reverse = True)]\n",
    "print(new_list)\n",
    "\n",
    "# new_list=[]\n",
    "# for el_sum_list, el_sample_list in sorted(zip(sum_list,sample_list), reverse = True):\n",
    "#     new_list.append(el_sample_list)\n",
    "\n",
    "print('List with highest sum: ', new_list[0])"
   ]
  },
  {
   "cell_type": "markdown",
   "metadata": {},
   "source": [
    "Question 2"
   ]
  },
  {
   "cell_type": "code",
   "execution_count": 18,
   "metadata": {},
   "outputs": [
    {
     "name": "stdout",
     "output_type": "stream",
     "text": [
      "[7, 8, 9]\n"
     ]
    }
   ],
   "source": [
    "sample_list = [[1,2,3], 11, (13, 14), [4,5,6, [7, 8, 9]], [7,8,9], 'a']\n",
    "search_list = [7, 8, 9]\n",
    "\n",
    "for elements in sample_list:\n",
    "    if search_list == elements:\n",
    "         print(elements)"
   ]
  },
  {
   "cell_type": "code",
   "execution_count": 21,
   "metadata": {},
   "outputs": [
    {
     "name": "stdout",
     "output_type": "stream",
     "text": [
      "[1, 2, 3, 4, 5, 6, 7, 8, 9]\n"
     ]
    }
   ],
   "source": [
    "# Flat List\n",
    "sample_list = [[1, 2, 3], [4, 5, 6], [7, 8, 9]]\n",
    "flag = 1\n",
    "\n",
    "# def flatten_list(sample_list):\n",
    "new_list = []\n",
    "for sub_list in sample_list:\n",
    "    if isinstance(sub_list, list):\n",
    "        for elements in sub_list:\n",
    "            new_list.append(elements)\n",
    "print(new_list)\n",
    "#     return new_list"
   ]
  }
 ],
 "metadata": {
  "kernelspec": {
   "display_name": "Python 3",
   "language": "python",
   "name": "python3"
  },
  "language_info": {
   "codemirror_mode": {
    "name": "ipython",
    "version": 3
   },
   "file_extension": ".py",
   "mimetype": "text/x-python",
   "name": "python",
   "nbconvert_exporter": "python",
   "pygments_lexer": "ipython3",
   "version": "3.7.3"
  }
 },
 "nbformat": 4,
 "nbformat_minor": 2
}
