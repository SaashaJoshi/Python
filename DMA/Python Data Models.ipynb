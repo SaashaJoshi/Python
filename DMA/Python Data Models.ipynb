{
 "cells": [
  {
   "cell_type": "markdown",
   "metadata": {},
   "source": [
    "## Special Methods (Dunder Methods)"
   ]
  },
  {
   "cell_type": "markdown",
   "metadata": {},
   "source": [
    "Refer: https://www.ics.uci.edu/~brgallar/"
   ]
  },
  {
   "cell_type": "code",
   "execution_count": 39,
   "metadata": {},
   "outputs": [
    {
     "name": "stdout",
     "output_type": "stream",
     "text": [
      "10\n",
      "num:  5\n"
     ]
    }
   ],
   "source": [
    "# Add special method\n",
    "# __add__ called on addition operation using + operator\n",
    "\n",
    "num = 5\n",
    "print(num.__add__(5))   # Equivalent to >>> num + 5\n",
    "print(\"num: \", num)"
   ]
  },
  {
   "cell_type": "code",
   "execution_count": 40,
   "metadata": {},
   "outputs": [
    {
     "name": "stdout",
     "output_type": "stream",
     "text": [
      "num:  10\n"
     ]
    }
   ],
   "source": [
    "num = 5\n",
    "num = num.__add__(5) # Equivalent to num = num + 5\n",
    "print(\"num: \", num)"
   ]
  },
  {
   "cell_type": "code",
   "execution_count": 41,
   "metadata": {},
   "outputs": [
    {
     "name": "stdout",
     "output_type": "stream",
     "text": [
      "num:  10\n"
     ]
    }
   ],
   "source": [
    "## Check!!\n",
    "# Inplace add special method\n",
    "# __iadd__ called on addition operation with assignment\n",
    "\n",
    "import operator\n",
    "num = 5\n",
    "num = operator.iadd(num, 5)    # Equivalent to num += 5\n",
    "print(\"num: \", num)"
   ]
  },
  {
   "cell_type": "code",
   "execution_count": 77,
   "metadata": {},
   "outputs": [
    {
     "data": {
      "text/plain": [
       "'1'"
      ]
     },
     "execution_count": 77,
     "metadata": {},
     "output_type": "execute_result"
    }
   ],
   "source": [
    "# __getitem__ special method\n",
    "# Gets items from a list or class objects\n",
    "\n",
    "a_list = ['1', '2', '3', 'a', 'b', 'c']\n",
    "a_list.__getitem__(0)    # Equivalent to a_list[0]"
   ]
  },
  {
   "cell_type": "code",
   "execution_count": 78,
   "metadata": {},
   "outputs": [
    {
     "data": {
      "text/plain": [
       "'d'"
      ]
     },
     "execution_count": 78,
     "metadata": {},
     "output_type": "execute_result"
    }
   ],
   "source": [
    "# __setitem__ special method\n",
    "# Sets items in a list or class object\n",
    "\n",
    "a_list.__setitem__(5, 'd')   # Equivalent to a_list[5] = 'd'\n",
    "a_list.__getitem__(5)"
   ]
  },
  {
   "cell_type": "code",
   "execution_count": 79,
   "metadata": {},
   "outputs": [
    {
     "data": {
      "text/plain": [
       "['2', '3', 'b', 'd']"
      ]
     },
     "execution_count": 79,
     "metadata": {},
     "output_type": "execute_result"
    }
   ],
   "source": [
    "# __delitem__ special method\n",
    "# Deletes items in a list or class object\n",
    "# Destructor method\n",
    "\n",
    "a_list.__delitem__(3)    # Equivalent to del a_list[3]\n",
    "a_list"
   ]
  },
  {
   "cell_type": "code",
   "execution_count": 99,
   "metadata": {},
   "outputs": [
    {
     "name": "stdout",
     "output_type": "stream",
     "text": [
      "B\n",
      "C\n"
     ]
    }
   ],
   "source": [
    "# Using __getitem__, __setitem__ and __delitem__ in a class\n",
    "\n",
    "class Students(object):\n",
    "    def __init__(self, rollno):\n",
    "        self._rollno = [None]*rollno    # Single leading _underscore represents a private method\n",
    "    \n",
    "    def __setitem__(self, rollno, name):\n",
    "        self._rollno[rollno] = name\n",
    "        \n",
    "    def __getitem__(self, rollno):\n",
    "        return self._rollno[rollno]\n",
    "    \n",
    "    def __delitem__(self, rollno):\n",
    "        del self._rollno[rollno]\n",
    "\n",
    "class_A = Students(3)\n",
    "class_A.__setitem__(0, 'A')    # Equivalent to class_A[0] = 'A'\n",
    "class_A[1] = 'B'\n",
    "class_A[2] = 'C'\n",
    "\n",
    "print(class_A.__getitem__(1))    # Equivalent to class_A[1]\n",
    "print(class_A[2])\n",
    "\n",
    "class_A.__delitem__(2)    # Equivalent to del class_A[2]\n",
    "del class_A[0]"
   ]
  },
  {
   "cell_type": "code",
   "execution_count": null,
   "metadata": {},
   "outputs": [],
   "source": []
  }
 ],
 "metadata": {
  "kernelspec": {
   "display_name": "Python 3",
   "language": "python",
   "name": "python3"
  },
  "language_info": {
   "codemirror_mode": {
    "name": "ipython",
    "version": 3
   },
   "file_extension": ".py",
   "mimetype": "text/x-python",
   "name": "python",
   "nbconvert_exporter": "python",
   "pygments_lexer": "ipython3",
   "version": "3.7.3"
  }
 },
 "nbformat": 4,
 "nbformat_minor": 2
}
