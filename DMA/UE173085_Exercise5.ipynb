{
 "cells": [
  {
   "cell_type": "markdown",
   "metadata": {},
   "source": [
    "Question 1"
   ]
  },
  {
   "cell_type": "code",
   "execution_count": 4,
   "metadata": {},
   "outputs": [],
   "source": [
    "import numpy as np"
   ]
  },
  {
   "cell_type": "code",
   "execution_count": 17,
   "metadata": {},
   "outputs": [],
   "source": [
    "def check_zero(narray):\n",
    "    n = len(narray)\n",
    "    count = np.count_nonzero(narray)\n",
    "    \n",
    "    if count < n:\n",
    "        print('Yes, numpy array consists of zeros')\n",
    "    else:\n",
    "        print('No, numpy array doesn\\'t have zeros')"
   ]
  },
  {
   "cell_type": "code",
   "execution_count": 18,
   "metadata": {},
   "outputs": [
    {
     "name": "stdout",
     "output_type": "stream",
     "text": [
      "Yes, numpy array consists of zeros\n"
     ]
    }
   ],
   "source": [
    "arr = np.array([1, 2, 3, 0, 0, 7])\n",
    "check_zero(arr)"
   ]
  },
  {
   "cell_type": "code",
   "execution_count": 19,
   "metadata": {},
   "outputs": [
    {
     "name": "stdout",
     "output_type": "stream",
     "text": [
      "No, numpy array doesn't have zeros\n"
     ]
    }
   ],
   "source": [
    "arr2 = np.array([1, 2, 3, 7])\n",
    "check_zero(arr2)"
   ]
  },
  {
   "cell_type": "markdown",
   "metadata": {},
   "source": [
    "Question 2"
   ]
  },
  {
   "cell_type": "code",
   "execution_count": 215,
   "metadata": {},
   "outputs": [],
   "source": [
    "def mean_marks(narray):\n",
    "    total = 0\n",
    "    \n",
    "    new_narray = np.array([])\n",
    "    for index, marks in enumerate(narray):\n",
    "        if marks >= 40:\n",
    "            new_narray = np.append(new_narray, marks)\n",
    "    \n",
    "    n = len(new_narray)\n",
    "    for marks in new_narray:\n",
    "        total += marks\n",
    "    \n",
    "    print('Mean/Average Marks: ', total/n)"
   ]
  },
  {
   "cell_type": "code",
   "execution_count": 216,
   "metadata": {},
   "outputs": [],
   "source": [
    "# import statistics\n",
    "def median_marks(narray):\n",
    "#     print('Median: ', np.median(narray))\n",
    "#     print(statistics.median(narray))\n",
    "    \n",
    "    new_narray = np.array([])\n",
    "    for index, marks in enumerate(narray):\n",
    "        if marks >= 40:\n",
    "            new_narray = np.append(new_narray, marks)\n",
    "    \n",
    "    new_narray.sort()\n",
    "    n = len(new_narray)\n",
    "    if n % 2 == 0:\n",
    "        med = int(n/2)\n",
    "        med_2 = med + 1\n",
    "        median = (new_narray[med-1] + new_narray[med_2-1])/2\n",
    "        print('Median: ', median)\n",
    "    else:\n",
    "        med = int(n/2)\n",
    "        print('Median: ', new_narray[med])"
   ]
  },
  {
   "cell_type": "code",
   "execution_count": 217,
   "metadata": {},
   "outputs": [
    {
     "name": "stdout",
     "output_type": "stream",
     "text": [
      "Mean/Average Marks:  68.16666666666667\n",
      "Median:  70.0\n"
     ]
    }
   ],
   "source": [
    "arr = np.array([40, 50, 67, 84, 95, 73])\n",
    "mean_marks(arr)\n",
    "median_marks(arr)"
   ]
  },
  {
   "cell_type": "code",
   "execution_count": 218,
   "metadata": {},
   "outputs": [
    {
     "name": "stdout",
     "output_type": "stream",
     "text": [
      "Mean/Average Marks:  67.71428571428571\n",
      "Median:  62.0\n"
     ]
    }
   ],
   "source": [
    "arr2 = np.array([43, 56, 79, 62, 89, 91, 54])\n",
    "mean_marks(arr2)\n",
    "median_marks(arr2)"
   ]
  },
  {
   "cell_type": "code",
   "execution_count": 219,
   "metadata": {},
   "outputs": [
    {
     "name": "stdout",
     "output_type": "stream",
     "text": [
      "Mean/Average Marks:  67.71428571428571\n",
      "Median:  62.0\n"
     ]
    }
   ],
   "source": [
    "arr2 = np.array([23, 39, 43, 56, 79, 62, 89, 91, 54, 35])\n",
    "mean_marks(arr2)\n",
    "median_marks(arr2)"
   ]
  },
  {
   "cell_type": "markdown",
   "metadata": {},
   "source": [
    "Question 3"
   ]
  },
  {
   "cell_type": "code",
   "execution_count": 30,
   "metadata": {},
   "outputs": [
    {
     "name": "stdout",
     "output_type": "stream",
     "text": [
      "Enter DOB in the format dd-mm-yyyy: 16-03-1999\n",
      "Age:  21 Years 11 Months and 22 Days\n"
     ]
    }
   ],
   "source": [
    "from datetime import date\n",
    "today = date.today()\n",
    "\n",
    "(dd, mm, yyyy) = input('Enter DOB in the format dd-mm-yyyy: ').split('-')\n",
    "\n",
    "years = today.year - int(yyyy)\n",
    "\n",
    "\n",
    "months = today.month - int(mm)\n",
    "if months < 0:\n",
    "    months = 12 + months\n",
    "\n",
    "days = today.day - int(dd)\n",
    "if days < 0:\n",
    "    days = 30 + days\n",
    "    \n",
    "print('Age: ', years, 'Years', months, 'Months and', days, 'Days')"
   ]
  },
  {
   "cell_type": "markdown",
   "metadata": {},
   "source": [
    "Question 4"
   ]
  },
  {
   "cell_type": "code",
   "execution_count": 81,
   "metadata": {},
   "outputs": [],
   "source": [
    "def sort_array(narray):\n",
    "    print('Sorted 2D array (by column): ', sorted(narray, key = lambda item : item[1]))"
   ]
  },
  {
   "cell_type": "code",
   "execution_count": 220,
   "metadata": {},
   "outputs": [
    {
     "name": "stdout",
     "output_type": "stream",
     "text": [
      "Sorted 2D array (by column):  [array([10, 20]), array([59, 33]), array([98, 67]), array([34, 76])]\n"
     ]
    }
   ],
   "source": [
    "arr = np.array([[10, 20], [34, 76], [98, 67], [59, 33]])\n",
    "sort_array(arr)"
   ]
  }
 ],
 "metadata": {
  "kernelspec": {
   "display_name": "Python 3",
   "language": "python",
   "name": "python3"
  },
  "language_info": {
   "codemirror_mode": {
    "name": "ipython",
    "version": 3
   },
   "file_extension": ".py",
   "mimetype": "text/x-python",
   "name": "python",
   "nbconvert_exporter": "python",
   "pygments_lexer": "ipython3",
   "version": "3.7.3"
  }
 },
 "nbformat": 4,
 "nbformat_minor": 2
}
