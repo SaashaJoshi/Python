{
 "cells": [
  {
   "cell_type": "code",
   "execution_count": 1,
   "metadata": {},
   "outputs": [],
   "source": [
    "import random\n",
    "random.seed(100)\n",
    "def scramble(word):\n",
    "    word=list(word)\n",
    "    random.shuffle(word)\n",
    "    word=\"\".join(word)\n",
    "    #print(word)\n",
    "    return word"
   ]
  },
  {
   "cell_type": "code",
   "execution_count": 2,
   "metadata": {},
   "outputs": [
    {
     "name": "stdout",
     "output_type": "stream",
     "text": [
      "Enter any string: This is a new python program!\n",
      "This is a new python program!\n"
     ]
    }
   ],
   "source": [
    "strng=input('Enter any string: ')\n",
    "print(strng)"
   ]
  },
  {
   "cell_type": "code",
   "execution_count": 3,
   "metadata": {},
   "outputs": [
    {
     "name": "stdout",
     "output_type": "stream",
     "text": [
      "his is a new python program\n"
     ]
    }
   ],
   "source": [
    "print(strng[1:-1])"
   ]
  },
  {
   "cell_type": "code",
   "execution_count": 4,
   "metadata": {},
   "outputs": [
    {
     "name": "stdout",
     "output_type": "stream",
     "text": [
      "['This', 'is', 'a', 'new', 'python', 'program!']\n"
     ]
    }
   ],
   "source": [
    "slist=strng.split(\" \")\n",
    "print(slist)"
   ]
  },
  {
   "cell_type": "code",
   "execution_count": 5,
   "metadata": {},
   "outputs": [
    {
     "name": "stdout",
     "output_type": "stream",
     "text": [
      "['T', 'h', 'i', 's', ' ', 'i', 's', ' ', 'a', ' ', 'n', 'e', 'w', ' ', 'p', 'y', 't', 'h', 'o', 'n', ' ', 'p', 'r', 'o', 'g', 'r', 'a', 'm', '!']\n",
      "This is a new python program!\n"
     ]
    }
   ],
   "source": [
    "strng=list(strng)\n",
    "print(strng)\n",
    "strng=\"\".join(strng)\n",
    "print(strng)"
   ]
  },
  {
   "cell_type": "code",
   "execution_count": 6,
   "metadata": {},
   "outputs": [
    {
     "name": "stdout",
     "output_type": "stream",
     "text": [
      "This\n",
      "is\n",
      "a\n",
      "new\n",
      "python\n",
      "program!\n"
     ]
    }
   ],
   "source": [
    "for word in slist:\n",
    "    print(word)"
   ]
  },
  {
   "cell_type": "code",
   "execution_count": 11,
   "metadata": {},
   "outputs": [
    {
     "name": "stdout",
     "output_type": "stream",
     "text": [
      "Tihs\n",
      "is\n",
      "a\n",
      "new\n",
      "phoytn\n",
      "prgraom!\n"
     ]
    }
   ],
   "source": [
    "import string\n",
    "for word in slist:\n",
    "    if len(word)>3:\n",
    "        for index, letter in enumerate(word):\n",
    "            if letter in string.punctuation:\n",
    "                #print(index, letter)\n",
    "                index=index\n",
    "            else:\n",
    "                index=-1\n",
    "                \n",
    "        if index>0:\n",
    "            #print(index)\n",
    "            sword=word[1:index-1]\n",
    "            #print(sword)      \n",
    "            scrambleword=scramble(sword)\n",
    "            #print(scrambleword)\n",
    "            #print(word[0])\n",
    "            #print(word[index-1:])\n",
    "            print(word[0]+scrambleword+word[index-1:])\n",
    "            break\n",
    "        else:\n",
    "            sword=word[1:-1]\n",
    "            #print(sword)\n",
    "            scrambleword=scramble(sword)\n",
    "            #print(scrambleword)\n",
    "            print(word[0]+scrambleword+word[-1:])\n",
    "                \n",
    "    else:\n",
    "        print(word)"
   ]
  }
 ],
 "metadata": {
  "kernelspec": {
   "display_name": "Python 3",
   "language": "python",
   "name": "python3"
  },
  "language_info": {
   "codemirror_mode": {
    "name": "ipython",
    "version": 3
   },
   "file_extension": ".py",
   "mimetype": "text/x-python",
   "name": "python",
   "nbconvert_exporter": "python",
   "pygments_lexer": "ipython3",
   "version": "3.7.3"
  }
 },
 "nbformat": 4,
 "nbformat_minor": 2
}
