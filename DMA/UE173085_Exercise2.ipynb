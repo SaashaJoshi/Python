{
 "cells": [
  {
   "cell_type": "code",
   "execution_count": 22,
   "metadata": {},
   "outputs": [],
   "source": [
    "import random\n",
    "random.seed(100)\n",
    "\n",
    "# Scramble function\n",
    "def scramble(word):\n",
    "    word=list(word)\n",
    "    random.shuffle(word)\n",
    "    word=\"\".join(word)\n",
    "    #print(word)\n",
    "    return word"
   ]
  },
  {
   "cell_type": "code",
   "execution_count": 51,
   "metadata": {},
   "outputs": [
    {
     "name": "stdout",
     "output_type": "stream",
     "text": [
      "Enter any string: This is new python program!\n",
      "This is new python program!\n"
     ]
    }
   ],
   "source": [
    "# Taking input string\n",
    "strng=input('Enter any string: ')\n",
    "print(strng)"
   ]
  },
  {
   "cell_type": "code",
   "execution_count": 52,
   "metadata": {},
   "outputs": [
    {
     "name": "stdout",
     "output_type": "stream",
     "text": [
      "his is new python program\n"
     ]
    }
   ],
   "source": [
    "print(strng[1:-1])"
   ]
  },
  {
   "cell_type": "code",
   "execution_count": 53,
   "metadata": {},
   "outputs": [
    {
     "name": "stdout",
     "output_type": "stream",
     "text": [
      "['This', 'is', 'new', 'python', 'program!']\n"
     ]
    }
   ],
   "source": [
    "slist=strng.split(\" \")    # Split function breaks the string by specified seperator\n",
    "print(slist)"
   ]
  },
  {
   "cell_type": "markdown",
   "metadata": {},
   "source": [
    "Mutable vs. Immutable"
   ]
  },
  {
   "cell_type": "code",
   "execution_count": 54,
   "metadata": {},
   "outputs": [
    {
     "ename": "TypeError",
     "evalue": "'str' object does not support item assignment",
     "output_type": "error",
     "traceback": [
      "\u001b[0;31m---------------------------------------------------------------------------\u001b[0m",
      "\u001b[0;31mTypeError\u001b[0m                                 Traceback (most recent call last)",
      "\u001b[0;32m<ipython-input-54-4c3c4cd0a164>\u001b[0m in \u001b[0;36m<module>\u001b[0;34m\u001b[0m\n\u001b[0;32m----> 1\u001b[0;31m \u001b[0mstrng\u001b[0m\u001b[0;34m[\u001b[0m\u001b[0;36m1\u001b[0m\u001b[0;34m]\u001b[0m\u001b[0;34m=\u001b[0m \u001b[0;34m'HEY'\u001b[0m    \u001b[0;31m# Strings are immutable\u001b[0m\u001b[0;34m\u001b[0m\u001b[0;34m\u001b[0m\u001b[0m\n\u001b[0m",
      "\u001b[0;31mTypeError\u001b[0m: 'str' object does not support item assignment"
     ]
    }
   ],
   "source": [
    "strng[1]= 'HEY'    # Strings are immutable"
   ]
  },
  {
   "cell_type": "code",
   "execution_count": 55,
   "metadata": {},
   "outputs": [
    {
     "name": "stdout",
     "output_type": "stream",
     "text": [
      "['HEYA', 'is', 'new', 'python', 'program!']\n",
      "This is new python program!\n"
     ]
    }
   ],
   "source": [
    "slist[0]=\"HEYA\"    # Converting immutable strings to mutable lists and making changes\n",
    "print(slist)\n",
    "print(strng)"
   ]
  },
  {
   "cell_type": "code",
   "execution_count": 56,
   "metadata": {},
   "outputs": [
    {
     "name": "stdout",
     "output_type": "stream",
     "text": [
      "['T', 'h', 'i', 's', ' ', 'i', 's', ' ', 'n', 'e', 'w', ' ', 'p', 'y', 't', 'h', 'o', 'n', ' ', 'p', 'r', 'o', 'g', 'r', 'a', 'm', '!']\n",
      "This is new python program!\n"
     ]
    }
   ],
   "source": [
    "strng=list(strng)    \n",
    "print(strng)\n",
    "\n",
    "strng=\"\".join(strng)\n",
    "print(strng)"
   ]
  },
  {
   "cell_type": "code",
   "execution_count": 19,
   "metadata": {},
   "outputs": [
    {
     "name": "stdout",
     "output_type": "stream",
     "text": [
      "HEYA\n",
      "is\n",
      "a\n",
      "new\n",
      "python\n",
      "program!\n"
     ]
    }
   ],
   "source": [
    "for word in slist:\n",
    "    print(word)"
   ]
  },
  {
   "cell_type": "code",
   "execution_count": 20,
   "metadata": {},
   "outputs": [
    {
     "name": "stdout",
     "output_type": "stream",
     "text": [
      "HYEA is a new pyhotn pargrom! "
     ]
    }
   ],
   "source": [
    "import string\n",
    "for word in slist:\n",
    "    if len(word)>3:\n",
    "        for index, letter in enumerate(word):\n",
    "            if letter in string.punctuation:\n",
    "                #print(index, letter)\n",
    "                index=index\n",
    "            else:\n",
    "                index=-1\n",
    "                \n",
    "        if index>0:\n",
    "            #print(index)\n",
    "            sword=word[1:index-1]\n",
    "            #print(sword)      \n",
    "            scrambleword=scramble(sword)\n",
    "            #print(scrambleword)\n",
    "            #print(word[0])\n",
    "            #print(word[index-1:])\n",
    "            print(word[0]+scrambleword+word[index-1:], end=\" \")\n",
    "            break\n",
    "        else:\n",
    "            sword=word[1:-1]\n",
    "            #print(sword)\n",
    "            scrambleword=scramble(sword)\n",
    "            #print(scrambleword)\n",
    "            print(word[0]+scrambleword+word[-1:], end=\" \")\n",
    "                \n",
    "    else:\n",
    "        print(word, end=\" \")"
   ]
  }
 ],
 "metadata": {
  "kernelspec": {
   "display_name": "Python 3",
   "language": "python",
   "name": "python3"
  },
  "language_info": {
   "codemirror_mode": {
    "name": "ipython",
    "version": 3
   },
   "file_extension": ".py",
   "mimetype": "text/x-python",
   "name": "python",
   "nbconvert_exporter": "python",
   "pygments_lexer": "ipython3",
   "version": "3.7.3"
  }
 },
 "nbformat": 4,
 "nbformat_minor": 2
}
